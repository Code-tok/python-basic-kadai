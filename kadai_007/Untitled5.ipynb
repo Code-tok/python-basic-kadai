{
  "nbformat": 4,
  "nbformat_minor": 0,
  "metadata": {
    "colab": {
      "provenance": []
    },
    "kernelspec": {
      "name": "python3",
      "display_name": "Python 3"
    },
    "language_info": {
      "name": "python"
    }
  },
  "cells": [
    {
      "cell_type": "code",
      "execution_count": 3,
      "metadata": {
        "colab": {
          "base_uri": "https://localhost:8080/"
        },
        "id": "HpdXp3WiiaTu",
        "outputId": "0d476c1e-127f-4109-9f4d-a429a71f1082"
      },
      "outputs": [
        {
          "output_type": "stream",
          "name": "stdout",
          "text": [
            "水曜日は晴です\n",
            "晴れ\n"
          ]
        }
      ],
      "source": [
        "array = [\n",
        "    \"月曜日は晴れです\",\n",
        "    \"火曜日は雨です\",\n",
        "    \"水曜日は晴です\",\n",
        "    \"木曜日に晴です\",\n",
        "    \"金曜日は曇りです\",\n",
        "    \"土曜日は曇りのち雨です\",\n",
        "    \"日曜日は雷雨です\"\n",
        "]\n",
        "\n",
        "print(array[2])\n",
        "\n",
        "dictionary = {\n",
        "    \"mon\": \"晴れ\",\n",
        "    \"tue\": \"雨\",\n",
        "    \"wed\": \"晴れ\",\n",
        "    \"thu\": \"晴れ\",\n",
        "    \"fri\": \"曇り\",\n",
        "    \"sat\": \"曇りのち雨\",\n",
        "    \"sun\": \"雷雨\"\n",
        "}\n",
        "\n",
        "print(dictionary[\"wed\"])"
      ]
    },
    {
      "cell_type": "code",
      "source": [],
      "metadata": {
        "id": "9LK1kwcGnD2_"
      },
      "execution_count": null,
      "outputs": []
    }
  ]
}