{
  "nbformat": 4,
  "nbformat_minor": 0,
  "metadata": {
    "colab": {
      "provenance": []
    },
    "kernelspec": {
      "name": "python3",
      "display_name": "Python 3"
    },
    "language_info": {
      "name": "python"
    }
  },
  "cells": [
    {
      "cell_type": "code",
      "execution_count": 1,
      "metadata": {
        "colab": {
          "base_uri": "https://localhost:8080/"
        },
        "id": "Mwh48PxGhcle",
        "outputId": "028ca9bb-dd01-4375-8895-a2c04242c168"
      },
      "outputs": [
        {
          "output_type": "stream",
          "name": "stdout",
          "text": [
            "121.0\n"
          ]
        }
      ],
      "source": [
        "def calc_tax(price,tax_rate):\n",
        "    total = price + (price * tax_rate / 100)\n",
        "    return total\n",
        "\n",
        "result = calc_tax(110,10)\n",
        "print(result)"
      ]
    }
  ]
}